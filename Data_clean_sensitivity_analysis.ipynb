{
 "cells": [
  {
   "cell_type": "code",
   "execution_count": 1,
   "id": "ff8ed3a4",
   "metadata": {},
   "outputs": [],
   "source": [
    "#pre-propcessing for gov and yelp data\n",
    "import pandas as pd\n",
    "import re\n",
    "import numpy as np\n",
    "import Levenshtein as lev\n",
    "from dfply import *\n",
    "\n",
    "gov_2017=pd.read_csv('./FoodEnv/SpatialData/Gov_Data2017.csv',usecols=['RECORDNAME','ADDRESS','CITY','STATE','ZIP','RECORDID','BUSINESSTY','LAT','LONG'])\n",
    "gov_2020=pd.read_csv('./FoodEnv/SpatialData/Gov_Data2020.csv',usecols=['RECORDNAME','ADDRESS','CITY','STATE','ZIP','RECORDID','BUSINESSTY','LAT','LONG'])\n",
    "yelp_2020=pd.read_csv('./FoodEnv/SpatialData/Yelp_Data.csv',usecols=['biz_name','biz_addres','biz_addr_1','biz_addr_2','biz_postal','yelp_categ','yelp_cat_1','biz_id','biz_latitu','biz_longit'],encoding='utf-8')\n",
    "esri_2017=pd.read_csv('./FoodEnv/SpatialData/Esri_2017.csv',usecols=['LOCNUM','CONAME','STREET','CITY','STATE','ZIP','NAICS','POINT_X','POINT_Y'])\n",
    "\n"
   ]
  },
  {
   "cell_type": "markdown",
   "id": "5af39c95",
   "metadata": {
    "heading_collapsed": true
   },
   "source": [
    "## Data Cleaning"
   ]
  },
  {
   "cell_type": "code",
   "execution_count": null,
   "id": "edb2a4da",
   "metadata": {
    "hidden": true
   },
   "outputs": [],
   "source": [
    "#clean address for yelp data\n",
    "yelp_2020['biz_addres']=yelp_2020['biz_addres'].str.replace(r\"[\\\\\\',]\", '')\n",
    "yelp_2020['biz_addr_1']=yelp_2020['biz_addr_1'].str.replace(r\"[\\\\\\',]\", '')\n",
    "yelp_2020['biz_addr_2']=yelp_2020['biz_addr_2'].str.replace(r\"[\\\\\\',]\", '')\n",
    "yelp_2020['biz_postal']=yelp_2020['biz_postal'].str.replace(r\"[\\\\\\',]\", '')\n",
    "\n",
    "#clean category column in yelp data\n",
    "yelp_2020['yelp_categ']=yelp_2020['yelp_categ'].str.replace(r\"[\\\\\\',]\", '')\n",
    "yelp_2020['yelp_cat_1']=yelp_2020['yelp_cat_1'].str.replace(r\"[\\\\\\',]\", '')\n",
    "\n",
    "#remove # in store names in gov data\n",
    "gov_2017['RECORDNAME']=[re.sub('#[^\\s]+', '', i) for i in gov_2017['RECORDNAME']]\n",
    "gov_2020['RECORDNAME']=[re.sub('#[^\\s]+', '', i) for i in gov_2020['RECORDNAME']]\n",
    "\n",
    "#lower case for address and store names for all data\n",
    "gov_2017['RECORDNAME']=gov_2017['RECORDNAME'].str.lower()\n",
    "gov_2020['RECORDNAME']=gov_2020['RECORDNAME'].str.lower()\n",
    "gov_2017['ADDRESS']=gov_2017['ADDRESS'].str.lower()\n",
    "gov_2020['ADDRESS']=gov_2020['ADDRESS'].str.lower()\n",
    "\n",
    "yelp_2020['biz_name']=yelp_2020['biz_name'].str.lower()\n",
    "esri_2017['CONAME']=esri_2017['CONAME'].str.lower()\n",
    "esri_2017['STREET']=esri_2017['STREET'].str.lower()\n",
    "\n",
    "#extract # in address and add to STE for gov and yelp\n",
    "gov_2017['STE'] = np.select([gov_2017.ADDRESS.str.contains('#')], \n",
    "                            [gov_2017.ADDRESS.apply(lambda x: x[x.find('#'):])], \n",
    "                            default = '')\n",
    "gov_2017['STE']=gov_2017['STE'].str[2:]\n",
    "\n",
    "gov_2020['STE'] = np.select([gov_2020.ADDRESS.str.contains('#')], \n",
    "                            [gov_2020.ADDRESS.apply(lambda x: x[x.find('#'):])], \n",
    "                            default = '')\n",
    "gov_2020['STE']=gov_2020['STE'].str[2:]\n",
    "\n",
    "# what has not been done: \n",
    "## Address in YELP data need cleaning; \n",
    "## Records with missing address are currently kept;\n",
    "## Category was not lower cased\n",
    "## Only address is cleaned, city, state and zip are not cleaned, consider to drop these"
   ]
  },
  {
   "cell_type": "code",
   "execution_count": null,
   "id": "b45c1ae1",
   "metadata": {
    "hidden": true
   },
   "outputs": [],
   "source": [
    "#assign new column names\n",
    "new_cols_gov=['G_NAME','G_Catg','G_ADDRESS','G_CITY','G_STATE','G_ZIP','G_RECORDID','G_LAT','G_LONG','G_STE']\n",
    "new_cols_esri=['E_RECORDID','E_NAME','E_ADDRESS','E_CITY','E_STATE','E_ZIP','E_NAICS','E_LONG','E_LAT']\n",
    "new_cols_yelp=['Y_NAME','Y_LAT','Y_LONG','Y_ADDRESS','Y_CITY','Y_STATE','Y_ZIP','Y_Ctg','Y_Ctg1','Y_RECORDID','Y_STE']\n",
    "\n",
    "gov_2017.columns=new_cols_gov\n",
    "gov_2020.columns=new_cols_gov\n",
    "yelp_2020.columns=new_cols_yelp\n",
    "esri_2017.columns=new_cols_esri\n",
    "\n"
   ]
  },
  {
   "cell_type": "code",
   "execution_count": null,
   "id": "25f557eb",
   "metadata": {
    "hidden": true
   },
   "outputs": [],
   "source": [
    "########Data cleaning################\n",
    "\n",
    "#clean duplicates for yelp\n",
    "\n",
    "#get first category in Y_Ctg1\n",
    "s = yelp_2020.Y_Ctg1.str.split('.') #find separator in column Y_Ctg1 .\n",
    "yelp_2020['Y_Ctg_lv1']=np.where(s.str.len()==1,'',s.str[0]) #retrieve the word before the separator\n",
    "\n",
    "#drop uplicates using name, address, city, zip and category\n",
    "yelp_2020_clean=yelp_2020.drop_duplicates(subset=['Y_NAME','Y_ADDRESS','Y_CITY','Y_ZIP','Y_Ctg_lv1'],\n",
    "                                         keep='last').reset_index(drop=True)\n",
    "yelp_2020_clean.to_csv('./FoodEnv/SpatialData/yelp_2020clean2.csv',index=False)\n",
    "\n",
    "#check results that were excluded\n",
    "#yelp_to_join=yelp_2020_clean[['Y_RECORDID','Y_LAT']]\n",
    "#yelp_all=pd.merge(yelp_2020,yelp_to_join,on='Y_RECORDID',how='outer')\n",
    "\n",
    "#yelp_duplicates=yelp_all[yelp_all['Y_LAT_y'].isnull()]\n",
    "#yelp_duplicates.to_csv('./FoodEnv/SpatialData/yelp_duplicates.csv',index=False)"
   ]
  },
  {
   "cell_type": "code",
   "execution_count": null,
   "id": "6b599e91",
   "metadata": {
    "hidden": true
   },
   "outputs": [],
   "source": [
    "#clean duplicates for esri\n",
    "\n",
    "#remove duplicates where all attributes are identical\n",
    "esri_2017_nodup=esri_2017.drop_duplicates(subset=['E_NAME','E_ADDRESS','E_CITY','E_ZIP','E_LAT','E_LONG'],\n",
    "                                         keep='last').reset_index(drop=True)\n",
    "#find duplicates in address, city and zip,lat, long\n",
    "esri_2017_duplic=esri_2017_nodup[esri_2017_nodup.duplicated(subset=['E_ADDRESS','E_CITY','E_ZIP','E_LAT','E_LONG'],keep=False)]\n",
    "esri_2017_duplic['E_coords']=esri_2017_duplic.apply(lambda x:'%s,%s' % (x['E_LAT'],x['E_LONG']),axis=1)\n",
    "esri_2017_duplic=esri_2017_duplic[['E_RECORDID','E_NAME','E_NAICS','E_coords']]\n",
    "\n",
    "#make another dataset that is the same with esri_2017_duplic\n",
    "esri_2017_duplic_v2=pd.DataFrame()\n",
    "esri_2017_duplic_v2=esri_2017_duplic[['E_RECORDID','E_NAME','E_NAICS','E_coords']]\n",
    "#give new column names\n",
    "esri_2017_duplic_v2.columns=['E_RECORDID2','E_NAME2','E_NAICS2','E_coords2']\n",
    "\n",
    "\n",
    "esri_2017_duplic['E_NAME'].count()"
   ]
  },
  {
   "cell_type": "code",
   "execution_count": null,
   "id": "b2440910",
   "metadata": {
    "hidden": true
   },
   "outputs": [],
   "source": [
    "#get similarity score of store names between location duplicates\n",
    "esri_twosets=esri_2017_duplic.merge(esri_2017_duplic_v2,left_on='E_coords',right_on='E_coords2',how='outer')\n",
    "name_dist=esri_twosets.apply(lambda x: lev.distance(x['E_NAME'],  x['E_NAME2']), axis=1)\n",
    "name_dist_df=pd.DataFrame(name_dist,columns=['lev_dist'])\n",
    "name_match_esri=esri_twosets.join(name_dist_df)\n",
    "name_match_esri=name_match_esri.loc[~(name_match_esri['E_RECORDID'] == name_match_esri['E_RECORDID2'])]\n",
    "name_match_esri.to_csv('./FoodEnv/SpatialData/esri_duplicates.csv',index=False)\n",
    "\n",
    "#find records with a low similarity score, and drop one of them based on coordinates\n",
    "#this is a manual checking step and saved as esri_duplicates_clean, lev_dist<6 was set as threshold\n"
   ]
  },
  {
   "cell_type": "code",
   "execution_count": null,
   "id": "b6e694ff",
   "metadata": {
    "hidden": true
   },
   "outputs": [],
   "source": [
    "#drop duplicate records based on ID, merge other info back\n",
    "esri_clean=pd.read_csv('./FoodEnv/SpatialData/esri_duplicates.csv')\n",
    "\n",
    "#find the records that should be removed and retrieve RECORDID\n",
    "esri_to_drop=esri_clean>>filter_by(X.Keep==0)>>select(X.E_RECORDID)\n",
    "#remove these records from the original data\n",
    "esri_final_data=esri_2017_nodup[~esri_2017_nodup.E_RECORDID.isin(esri_to_drop.E_RECORDID)]\n",
    "esri_final_data['E_NAME'].count()\n",
    "\n",
    "esri_final_data.to_csv('./FoodEnv/SpatialData/esri_clean_final.csv',index=False)\n"
   ]
  },
  {
   "cell_type": "code",
   "execution_count": null,
   "id": "32713ba5",
   "metadata": {
    "hidden": true
   },
   "outputs": [],
   "source": [
    "#repeat cleaning process for gov data\n",
    "#remove duplicates where all attributes are identical\n",
    "gov_nodup=gov_2020.drop_duplicates(subset=['G_NAME','G_ADDRESS','G_CITY','G_ZIP','G_LAT','G_LONG'],\n",
    "                                         keep='last').reset_index(drop=True)\n",
    "#find duplicates in address, city and zip,lat, long\n",
    "gov_duplic=gov_nodup[gov_nodup.duplicated(subset=['G_ADDRESS','G_CITY','G_ZIP','G_LAT','G_LONG'],keep=False)]\n",
    "gov_duplic['G_coords']=gov_duplic.apply(lambda x:'%s,%s' % (x['G_LAT'],x['G_LONG']),axis=1)\n",
    "gov_duplic=gov_duplic[['G_RECORDID','G_NAME','G_coords']]\n",
    "\n",
    "#make another dataset that is the same with gov_duplic\n",
    "gov_duplic_v2=pd.DataFrame()\n",
    "gov_duplic_v2=gov_duplic[['G_RECORDID','G_NAME','G_coords']]\n",
    "#give new column names\n",
    "gov_duplic_v2.columns=['G_RECORDID2','G_NAME2','G_coords2']\n",
    "\n",
    "\n",
    "gov_duplic['G_NAME'].count()\n",
    "\n"
   ]
  },
  {
   "cell_type": "code",
   "execution_count": null,
   "id": "7b2ff971",
   "metadata": {
    "hidden": true
   },
   "outputs": [],
   "source": [
    "#get similarity score of store names between location duplicates\n",
    "gov_twosets=gov_duplic.merge(gov_duplic_v2,left_on='G_coords',right_on='G_coords2',how='outer')\n",
    "name_dist=gov_twosets.apply(lambda x: lev.distance(x['G_NAME'],  x['G_NAME2']), axis=1)\n",
    "name_dist_df=pd.DataFrame(name_dist,columns=['lev_dist'])\n",
    "name_match_gov=gov_twosets.join(name_dist_df)\n",
    "name_match_gov=name_match_gov.loc[~(name_match_gov['G_RECORDID'] == name_match_gov['G_RECORDID2'])]\n",
    "name_match_gov.to_csv('./FoodEnv/SpatialData/gov2020_duplicates.csv',index=False)\n",
    "\n",
    "#find records with a low similarity score, and drop one of them based on coordinates\n",
    "#this is a manual checking step and saved as esri_duplicates_clean, lev_dist<6 was set as threshold"
   ]
  },
  {
   "cell_type": "code",
   "execution_count": null,
   "id": "cbe39490",
   "metadata": {
    "hidden": true
   },
   "outputs": [],
   "source": [
    "#drop duplicate records based on ID, merge other info back\n",
    "gov_clean=pd.read_csv('./FoodEnv/SpatialData/gov2020_duplicates.csv')\n",
    "#find the records that should be removed and retrieve RECORDID\n",
    "gov_to_drop=gov_clean>>filter_by(X.Keep==0)>>select(X.G_RECORDID)\n",
    "#remove these records from the original data\n",
    "gov_final_data=gov_nodup[~gov_nodup.G_RECORDID.isin(gov_to_drop.G_RECORDID)]\n",
    "#gov_final_data['G_NAME'].count()\n",
    "\n",
    "gov_final_data.to_csv('./FoodEnv/SpatialData/gov_clean_final.csv',index=False)"
   ]
  },
  {
   "cell_type": "code",
   "execution_count": null,
   "id": "63221724",
   "metadata": {
    "hidden": true
   },
   "outputs": [],
   "source": [
    "#addresses were fixed for yelp data\n",
    "yelp_add_cor=pd.read_csv(\"./FoodEnv/SpatialData/yelp_ID_add_clean_v2.csv\",usecols=['biz_id','biz_address_clean'])\n",
    "#merge to yelp cleaned data based on biz_id\n",
    "#extract ste (update ste column)\n",
    "yelp_cleaned=pd.read_csv(\"./FoodEnv/SpatialData/yelp_2020clean2.csv\")\n",
    "yelp_add_merge=yelp_cleaned.merge(yelp_add_cor,left_on='Y_RECORDID',right_on='biz_id',how='inner')\n",
    "yelp_add_merge=yelp_add_merge[['Y_NAME','Y_LAT','Y_LONG','biz_address_clean','Y_CITY','Y_STATE','Y_ZIP','Y_Ctg','Y_Ctg1','Y_RECORDID','Y_Ctg_lv1']]\n",
    "yelp_add_merge.columns=['Y_NAME','Y_LAT','Y_LONG','Y_ADDRESS','Y_CITY','Y_STATE','Y_ZIP','Y_Ctg','Y_Ctg1','Y_RECORDID','Y_Ctg_lv1']\n",
    "yelp_add_merge['Y_ADDRESS']=yelp_add_merge['Y_ADDRESS'].str.lower()\n"
   ]
  },
  {
   "cell_type": "code",
   "execution_count": null,
   "id": "85d09ae0",
   "metadata": {
    "hidden": true
   },
   "outputs": [],
   "source": [
    "pat =  r'.*?(?P<Unit_type>ste|unit|bldg|#|section|suite|store) (?P<Y_STE>.+)'\n",
    "ste=yelp_add_merge.Y_ADDRESS.str.extract(pat)\n",
    "yelp_add_merge=yelp_add_merge.join(ste['Y_STE'])\n",
    "yelp_add_merge.to_csv('./FoodEnv/SpatialData/yelp_clean_final.csv')\n",
    "\n",
    "\n",
    "#data cleaning done"
   ]
  },
  {
   "cell_type": "markdown",
   "id": "0fa18582",
   "metadata": {},
   "source": [
    "## spatial data processing"
   ]
  },
  {
   "cell_type": "code",
   "execution_count": null,
   "id": "043b414e",
   "metadata": {},
   "outputs": [],
   "source": [
    "import pandas as pd\n",
    "test =  pd.read_csv(\"./FoodEnv/SpatialData/yelp_clean_final.csv\")\n",
    "duplicateRows = test [test.duplicated(['Y_RECORDID'])]"
   ]
  },
  {
   "cell_type": "code",
   "execution_count": null,
   "id": "38b898bf",
   "metadata": {},
   "outputs": [],
   "source": [
    "duplicateRows"
   ]
  },
  {
   "cell_type": "code",
   "execution_count": null,
   "id": "c03df0e2",
   "metadata": {},
   "outputs": [],
   "source": [
    "import arcpy\n",
    "\n",
    "arcpy.env.workspace = r\"C:\\Users\\yanji\\Documents\\COHProjects\\FoodEstab\\FoodEnv\\SpatialData\"\n",
    "arcpy.env.overwriteOutput = True\n",
    "\n",
    "input_data='yelp_clean_final.csv' #change input\n",
    "input_x=\"Y_LONG\" #change input\n",
    "input_y=\"Y_LAT\" #change input\n",
    "out_layer='yelp_2020.shp'\n",
    "project_out='yelp_2020prj.shp'\n",
    "\n",
    "#XY to shapefile\n",
    "food_pt=arcpy.management.XYTableToPoint(input_data, out_layer, input_x, input_y,'',arcpy.SpatialReference(4326))\n",
    "\n",
    "#project the point features to prepare for distance computation\n",
    "out_coordinate_system = arcpy.SpatialReference('NAD 1983 UTM Zone 11N')\n",
    "# run the tool\n",
    "food_prj=arcpy.Project_management(food_pt, project_out, out_coordinate_system)\n",
    "\n"
   ]
  },
  {
   "cell_type": "code",
   "execution_count": null,
   "id": "ed5d3b37",
   "metadata": {},
   "outputs": [],
   "source": [
    "#candidate dataset:'gov_2020prj.shp','esri_2017prj.shp','yelp_2020prj.shp'\n",
    "#change input data in the following code to run the function\n",
    "\n",
    "\n",
    "#point feature to the nearest point in another datset;modify the table, no new output\n",
    "arcpy.Near_analysis('esri_2017prj.shp', 'yelp_2020prj.shp')\n",
    "\n",
    "#get the median value of distance between nearest points\n",
    "arcpy.TableToTable_conversion('esri_2017prj.shp', arcpy.env.workspace, 'esri_yelp_dist.csv')\n",
    "out_table=pd.read_csv(\"./FoodEnv/SpatialData/esri_yelp_dist.csv\")\n",
    "out_table['NEAR_DIST'].median()"
   ]
  },
  {
   "cell_type": "code",
   "execution_count": null,
   "id": "163486c4",
   "metadata": {},
   "outputs": [],
   "source": [
    "#spatial join within a distance: 100 meters\n",
    "target_feature=r\"./FoodEnv/SpatialData/gov_2020prj.shp\" #change data input for other dataset\n",
    "join_feature=r\"./FoodEnv/SpatialData/yelp_2020prj.shp\"\n",
    "out_feature=r\"./FoodEnv/SpatialData/gov_yelp1000m.shp\"\n",
    "join_operation=\"JOIN_ONE_TO_MANY\"\n",
    "match_option=\"WITHIN_A_DISTANCE\" #could use WITHIN_DISTANCE in future work instead of creating buffer\n",
    "search_radius='1000 Meters'\n",
    "\n",
    "arcpy.SpatialJoin_analysis(target_feature, join_feature, out_feature,join_operation,\"#\",\"#\",match_option,search_radius)\n",
    "arcpy.TableToTable_conversion('gov_yelp1000m.shp', arcpy.env.workspace, 'gov_yelp1000m.csv')\n"
   ]
  },
  {
   "cell_type": "code",
   "execution_count": null,
   "id": "6faacb80",
   "metadata": {},
   "outputs": [],
   "source": [
    "##############a subset code for 3 data join##################\n",
    "#get cleaning data for new spatial join\n",
    "esri_gov_to_clean=pd.read_csv('./FoodEnv/SpatialData/esri_gov_matchtest.csv',\n",
    "                              usecols=['G_NAME', 'G_Catg','G_ADDRESS', 'G_CITY', 'G_STATE', \n",
    "                                       'G_ZIP', 'G_RECORDID', 'G_LAT','G_LONG', 'G_STE', 'E_RECORDID',\n",
    "                                       'E_NAME', 'E_ADDRESS', 'E_CITY','E_STATE', 'E_ZIP', 'E_NAICS', \n",
    "                                       'E_LONG', 'E_LAT'])\n",
    "esri_gov_to_clean.to_csv('./FoodEnv/SpatialData/esri_gov_clean.csv')"
   ]
  },
  {
   "cell_type": "code",
   "execution_count": null,
   "id": "971da3dc",
   "metadata": {},
   "outputs": [],
   "source": [
    "#join yelp data with esri_gov data\n",
    "\n",
    "input_data='esri_gov_clean.csv' #change input\n",
    "input_x=\"G_LONG\" #change input\n",
    "input_y=\"G_LAT\" #change input\n",
    "out_layer='esri_gov.shp'\n",
    "project_out='esri_gov_prj.shp'\n",
    "\n",
    "#XY to shapefile\n",
    "food_pt=arcpy.management.XYTableToPoint(input_data, out_layer, input_x, input_y,'',arcpy.SpatialReference(4326))\n",
    "\n",
    "#project the point features to prepare for distance computation\n",
    "out_coordinate_system = arcpy.SpatialReference('NAD 1983 UTM Zone 11N')\n",
    "# run the tool\n",
    "food_prj=arcpy.Project_management(food_pt, project_out, out_coordinate_system)"
   ]
  },
  {
   "cell_type": "code",
   "execution_count": null,
   "id": "9b17a217",
   "metadata": {},
   "outputs": [],
   "source": [
    "#spatial join buffer to point -- within a distance: 100 meters\n",
    "#candidate dataset:'gov_2020prj.shp','esri_2017prj.shp','yelp_2020prj.shp'\n",
    "target_feature=r\"./FoodEnv/SpatialData/yelp_2020prj.shp\" #change data input for other dataset\n",
    "join_feature=r\"./FoodEnv/SpatialData/esri_2017prj.shp\"\n",
    "out_feature=r\"./FoodEnv/SpatialData/yelp_esri1000m.shp\"\n",
    "join_operation=\"JOIN_ONE_TO_MANY\"\n",
    "match_option=\"WITHIN_A_DISTANCE\" #could use WITHIN_DISTANCE in future work instead of creating buffer\n",
    "search_radius='1000 Meters'\n",
    "\n",
    "arcpy.SpatialJoin_analysis(target_feature, join_feature, out_feature,join_operation,\"#\",\"#\",match_option,search_radius)\n",
    "arcpy.TableToTable_conversion('yelp_esri1000m.shp', arcpy.env.workspace, 'yelp_esri1000m.csv')"
   ]
  },
  {
   "cell_type": "markdown",
   "id": "c5ec5a59",
   "metadata": {},
   "source": [
    "## Matching lat/long and store names to drop duplicates"
   ]
  },
  {
   "cell_type": "code",
   "execution_count": null,
   "id": "bc98271a",
   "metadata": {},
   "outputs": [],
   "source": [
    "import pandas as pd\n",
    "from dfply import *\n",
    "import Levenshtein as lev\n",
    "from metaphone import doublemetaphone"
   ]
  },
  {
   "cell_type": "code",
   "execution_count": null,
   "id": "a527179b",
   "metadata": {},
   "outputs": [],
   "source": [
    "#data candidates:esri_yelp1000m,gov_esri1000m,gov_yelp1000m\n",
    "join_table=pd.read_csv(\"./FoodEnv/SpatialData/esri_yelp1000m.csv\")\n",
    "gps_list=['Y_LAT','Y_LONG','E_LAT','E_LONG']\n",
    "gps_offset=0.001\n",
    "name_list=['Y_NAME','E_NAME']\n",
    "lev_dist_threshold=4\n",
    "dm_threshold=2\n",
    "\n",
    "#remove rows with no esri pt\n",
    "join_table['lat_dff']=abs(join_table[gps_list[0]]-join_table[gps_list[2]])\n",
    "join_table['long_dff']=abs(join_table[gps_list[1]]-join_table[gps_list[3]])\n",
    "\n",
    "#location match\n",
    "join_table_1=join_table>>filter_by(X.Join_Count>0)\n",
    "#print(join_table_1['OID_'].count())\n",
    "\n",
    "#GPS match\n",
    "join_table_2=join_table_1>>filter_by(X.lat_dff<gps_offset, X.long_dff<gps_offset)\n",
    "#print(join_table_2['OID_'].count())\n",
    "\n",
    "#unique number of POIs after GPS matching\n",
    "#x=len(join_table_2['G_RECORDID'].unique())\n",
    "#print('After GPS Match:',x)\n",
    "\n",
    "#store name match\n",
    "join_table_2['lev_dist']=join_table_2.apply(lambda x: lev.distance(x[name_list[0]],  x[name_list[1]]), axis=1)\n",
    "#lev_dist_df=pd.DataFrame(lev_dist,columns=['lev_dist'])\n",
    "name_match=join_table_2>>filter_by(X.lev_dist<=lev_dist_threshold)\n",
    "#print(name_match['OID_'].count())\n",
    "\n",
    "#DM on store name\n",
    "name_match['DM1'] = name_match.apply(lambda x: doublemetaphone(str(x[name_list[0]]))[0], axis=1)\n",
    "name_match['DM2']=name_match.apply(lambda x: doublemetaphone(str(x[name_list[1]]))[0], axis=1)\n",
    "name_match['DM_lev']=name_match.apply(lambda x: lev.distance(x['DM1'],  x['DM2']), axis=1)\n",
    "name_dm=name_match>>filter_by(X.DM_lev<=dm_threshold)\n",
    "\n",
    "#unique number of POIs after name matching\n",
    "rec=len(name_dm['Y_RECORDID'].unique())\n",
    "print('After Name Match:',rec)"
   ]
  },
  {
   "cell_type": "code",
   "execution_count": null,
   "id": "6c5b5ac8",
   "metadata": {},
   "outputs": [],
   "source": [
    "#######Extra steps for Gov & ESRI Match\n",
    "\n",
    "#extra steps for cleaning duplicates for esri gas stations and similar names using smaller lev index\n",
    "\n",
    "#step1: If duplicate in RECORDID, then keep the one with lower lev score\n",
    "name_match_clean1= name_dm.groupby(['G_RECORDID','E_NAICS'])['lev_dist'].idxmin()\n",
    "\n",
    "#for esri matching data (joining in gov or yelp), if duplicate in RECORDID, then drop records where NAICS=44719005\n",
    "#sort by NAICS, keep the smaller NAICS if duplicate in gov recordid\n",
    "name_match_clean2=name_dm.loc[name_match_clean1].groupby(['G_RECORDID'])['E_NAICS'].idxmin()\n",
    "name_match_clean3= name_dm.loc[name_match_clean2].groupby(['E_RECORDID'])['lev_dist'].idxmin()\n",
    "#save processed data\n",
    "gov_esri_match_final=name_dm.loc[name_match_clean3]\n",
    "\n",
    "gov_esri_match_final['E_RECORDID'].count()\n",
    "\n",
    "gov_esri_match_final.to_csv('./FoodEnv/SpatialData/esri_gov_match0419.csv',index=False)"
   ]
  },
  {
   "cell_type": "code",
   "execution_count": null,
   "id": "b10b83ac",
   "metadata": {},
   "outputs": [],
   "source": [
    "#######Extra steps for Gov & Yelp Match\n",
    "\n",
    "#If duplicate in RECORDID, then keep the one with lower lev score\n",
    "name_match_clean1= name_dm.groupby(['G_RECORDID'])['lev_dist'].idxmin()\n",
    "name_match_clean2= name_dm.loc[name_match_clean1].groupby(['Y_RECORDID'])['lev_dist'].idxmin()\n",
    "#save processed data\n",
    "gov_yelp_match_final=name_dm.loc[name_match_clean2]\n",
    "\n",
    "gov_yelp_match_final.to_csv('./FoodEnv/SpatialData/gov_yelp_match0419.csv',index=False)"
   ]
  },
  {
   "cell_type": "code",
   "execution_count": null,
   "id": "d7005f43",
   "metadata": {},
   "outputs": [],
   "source": [
    "#######Extra steps for Esri & Yelp Match\n",
    "\n",
    "#step1: If duplicate in RECORDID, then keep the one with lower lev score\n",
    "name_match_clean1= name_dm.groupby(['Y_RECORDID'])['lev_dist'].idxmin()\n",
    "name_match_clean2= name_dm.loc[name_match_clean1].groupby(['E_RECORDID'])['lev_dist'].idxmin()\n",
    "\n",
    "#save processed data\n",
    "yelp_esri_match_final=name_dm.loc[name_match_clean2]\n",
    "yelp_esri_match_final.to_csv('./FoodEnv/SpatialData/esri_yelp_match0419.csv',index=False)"
   ]
  },
  {
   "cell_type": "code",
   "execution_count": null,
   "id": "629f1bf0",
   "metadata": {},
   "outputs": [],
   "source": [
    "len(gov_esri_match_final['E_RECORDID'].unique())"
   ]
  },
  {
   "cell_type": "code",
   "execution_count": null,
   "id": "9e6dcc57",
   "metadata": {},
   "outputs": [],
   "source": [
    "#merge gov_yelp and gov_esri\n",
    "gov_esri_yelp=gov_yelp_match_final.merge(gov_esri_match_final,on='G_RECORDID',how='inner')\n",
    "gov_esri_yelp.to_csv('./FoodEnv/SpatialData/esri_yelp_gov_match0419.csv',index=False)\n",
    "\n",
    "gov_esri_yelp['G_RECORDID'].count()"
   ]
  },
  {
   "cell_type": "code",
   "execution_count": null,
   "id": "48fdc4cb",
   "metadata": {},
   "outputs": [],
   "source": [
    "#extract the unmatched records from each dataset\n",
    "gov_full=pd.read_csv(\"./FoodEnv/SpatialData/gov_clean_final.csv\")\n",
    "yelp_full=pd.read_csv(\"./FoodEnv/SpatialData/yelp_clean_final.csv\")\n",
    "esri_full=pd.read_csv(\"./FoodEnv/SpatialData/esri_clean_final.csv\")\n",
    "\n",
    "gov_unmatch=gov_full[~gov_full['G_RECORDID'].isin(gov_esri_yelp['G_RECORDID'])]\n",
    "yelp_unmatch=yelp_full[~yelp_full['Y_RECORDID'].isin(gov_esri_yelp['Y_RECORDID'])]\n",
    "esri_unmatch=esri_full[~esri_full['E_RECORDID'].isin(gov_esri_yelp['E_RECORDID'])]\n",
    "\n",
    "#save data for weighted ranking match\n",
    "gov_unmatch.to_csv('./FoodEnv/SpatialData/gov_unmatch0419.csv',index=False)\n",
    "yelp_unmatch.to_csv('./FoodEnv/SpatialData/yelp_unmatch0419.csv',index=False)\n",
    "esri_unmatch.to_csv('./FoodEnv/SpatialData/esri_unmatch0419.csv',index=False)\n",
    "\n",
    "print(gov_unmatch['G_RECORDID'].count(),yelp_unmatch['Y_RECORDID'].count(),esri_unmatch['E_RECORDID'].count())                 "
   ]
  },
  {
   "cell_type": "code",
   "execution_count": null,
   "id": "fd01d199",
   "metadata": {},
   "outputs": [],
   "source": [
    "#some extra work for the low confidence matched data -- gov\n",
    "gov_full=pd.read_csv(\"./FoodEnv/SpatialData/gov_clean_final.csv\",usecols=['G_RECORDID','G_NAME','G_Catg','G_LAT','G_LONG'])\n",
    "gov_tomerge=pd.read_csv(\"./FoodEnv/SpatialData/esri_yelp_gov_500rank.csv\",usecols=['G_RECORDID'])\n",
    "gov_add=gov_tomerge.merge(gov_full,on='G_RECORDID',how='inner')\n",
    "gov_add.to_csv(\"./FoodEnv/SpatialData/esri_yelp_gov_500rank_govadd.csv\")\n"
   ]
  },
  {
   "cell_type": "markdown",
   "id": "29d0ffcf",
   "metadata": {},
   "source": [
    "## Sensitivity analysis"
   ]
  },
  {
   "cell_type": "code",
   "execution_count": null,
   "id": "d59bd475",
   "metadata": {},
   "outputs": [],
   "source": [
    "###########sensitivity analysis##################\n",
    "#data candidates: \"yelp_esri1000m\",'gov_yelp1000m','gov_esri1000m'\n",
    "join_table=pd.read_csv(\"./FoodEnv/SpatialData/esri_yelp1000m.csv\")\n",
    "gps_list=['E_LAT','E_LONG','Y_LAT','Y_LONG']\n",
    "name_list=['E_NAME','Y_NAME']\n",
    "\n",
    "\n",
    "#remove rows with no esri pt\n",
    "join_table['lat_dff']=abs(join_table[gps_list[0]]-join_table[gps_list[2]])\n",
    "join_table['long_dff']=abs(join_table[gps_list[1]]-join_table[gps_list[3]])\n",
    "\n",
    "#location match\n",
    "join_table_1=join_table>>filter_by(X.Join_Count>0)\n",
    "\n",
    "gps_offset=[0.0005,0.00075,0.001,0.002,0.003,0.004,0.005,0.006,0.007,0.008,0.009,0.01]\n",
    "#gps_offset=[0.005]\n",
    "file_name=['50m','75m','100m','200m','300m','400m','500m','600m','700m','800m','900m','1000m']\n",
    "#file_name=['500m']\n",
    "lev_dist_threshold=[2,3,4,5,6,7,8,9]\n",
    "\n",
    "for i in range (0,12):\n",
    "    for j in range (0,8):\n",
    "        join_table_2=join_table_1>>filter_by(X.lat_dff<gps_offset[i], X.long_dff<gps_offset[i])\n",
    "        lev_dist=join_table_2.apply(lambda x: lev.distance(x[name_list[0]],  x[name_list[1]]), axis=1)\n",
    "        lev_dist_df=pd.DataFrame(lev_dist,columns=['lev_dist'])\n",
    "        name_match=join_table_2.join(lev_dist_df)>>filter_by(X.lev_dist<=lev_dist_threshold[j])\n",
    "        #follow above code for different dataset\n",
    "        name_match_clean1= name_match.groupby(['Y_RECORDID'])['lev_dist'].idxmin()\n",
    "        name_match_clean2= name_match.loc[name_match_clean1].groupby(['E_RECORDID'])['lev_dist'].idxmin()\n",
    "        #save processed data\n",
    "        yelp_esri_match_final=name_match.loc[name_match_clean2]\n",
    "        yelp_esri_match_final.to_csv('./FoodEnv/SpatialData/SensTest/NewTest/esri_yelp_match{0}{1}.csv'.format(file_name[i],lev_dist_threshold[j]),index=False)\n",
    "        rec=len(name_match['Y_RECORDID'].unique())\n",
    "        print (rec)"
   ]
  },
  {
   "cell_type": "code",
   "execution_count": null,
   "id": "b70ad1d4",
   "metadata": {},
   "outputs": [],
   "source": [
    "#merge gov_yelp and gov_esri, sensitivity test\n",
    "\n",
    "for i in range (0,12):\n",
    "    for j in range (0,8):\n",
    "        gov_esri_match=pd.read_csv('./FoodEnv/SpatialData/SensTest/NewTest/gov_esri_match{0}{1}.csv'.format(file_name[i],lev_dist_threshold[j]))\n",
    "        gov_yelp_match=pd.read_csv('./FoodEnv/SpatialData/SensTest/NewTest/gov_yelp_match{0}{1}.csv'.format(file_name[i],lev_dist_threshold[j]))\n",
    "        gov_esri_yelp=gov_yelp_match.merge(gov_esri_match,on='G_RECORDID',how='inner')\n",
    "        #gov_esri_yelp.to_csv('./FoodEnv/SpatialData/SensTest/NewTest/gov_esri_yelp_match{0}{1}.csv'.format(file_name[i],lev_dist_threshold[j]),index=False)\n",
    "        rec=gov_esri_yelp['G_RECORDID'].count()\n",
    "        print (rec)"
   ]
  },
  {
   "cell_type": "code",
   "execution_count": 2,
   "id": "9b8fa949",
   "metadata": {},
   "outputs": [
    {
     "data": {
      "text/plain": [
       "<bound method NDFrame.head of     Distance (m)  Lev_Dist  Yelp_Gov  Gov_Esri  Esri_Yelp       YG_G  \\\n",
       "0             50         2      2763      2226       3493  31.562714   \n",
       "1             50         3      2915      2328       3597  33.299063   \n",
       "2             50         4      3065      2498       3804  35.012566   \n",
       "3             50         5      3158      2613       3927  36.074937   \n",
       "4             50         6      3318      2778       4123  37.902673   \n",
       "..           ...       ...       ...       ...        ...        ...   \n",
       "91          1000         5      4515      3834       5677  51.576422   \n",
       "92          1000         6      4885      4285       6296  55.803061   \n",
       "93          1000         7      5400      4899       6961  61.686086   \n",
       "94          1000         8      5779      5328       7637  66.015536   \n",
       "95          1000         9      6145      5732       8322  70.196482   \n",
       "\n",
       "         YG_Y     YG_Avg       EG_E       EG_G     EG_Avg       EY_E  \\\n",
       "0   21.480215  26.521464  20.630213  25.428376  23.029294  32.372567   \n",
       "1   22.661898  27.980481  21.575533  26.593557  24.084545  33.336423   \n",
       "2   23.828034  29.420300  23.151066  28.535527  25.843296  35.254866   \n",
       "3   24.551038  30.312988  24.216867  29.849212  27.033040  36.394810   \n",
       "4   25.794916  31.848794  25.746061  31.734064  28.740063  38.211307   \n",
       "..        ...        ...        ...        ...        ...        ...   \n",
       "91  35.100676  43.338549  35.532901  43.797121  39.665011  52.613531   \n",
       "92  37.977144  46.890103  39.712697  48.949052  44.330874  58.350324   \n",
       "93  41.980875  51.833481  45.403151  55.962988  50.683070  64.513438   \n",
       "94  44.927311  55.471423  49.379055  60.863605  55.121330  70.778499   \n",
       "95  47.772681  58.984581  53.123262  65.478638  59.300950  77.126969   \n",
       "\n",
       "         EY_Y     EY_Avg   All      All_G      All_E      All_Y    All_Avg  \n",
       "0   27.155407  29.763987  1560  17.820425  14.457831  12.127808  14.802022  \n",
       "1   27.963928  30.650175  1650  18.848526  15.291937  12.827490  15.655984  \n",
       "2   29.573194  32.414030  1783  20.367832  16.524560  13.861463  16.917952  \n",
       "3   30.529425  33.462118  1862  21.270276  17.256719  14.475628  17.667541  \n",
       "4   32.053176  35.132241  1985  22.675348  18.396664  15.431859  18.834624  \n",
       "..        ...        ...   ...        ...        ...        ...        ...  \n",
       "91  44.134339  48.373935  2846  32.510852  26.376274  22.125476  27.004201  \n",
       "92  48.946591  53.648458  2970  33.927348  27.525487  23.089481  28.180772  \n",
       "93  54.116458  59.314948  3161  36.109207  29.295644  24.574361  29.993071  \n",
       "94  59.371842  65.075170  3120  35.640850  28.915663  24.255617  29.604043  \n",
       "95  64.697193  70.912081  3086  35.252456  28.600556  23.991293  29.281435  \n",
       "\n",
       "[96 rows x 19 columns]>"
      ]
     },
     "execution_count": 2,
     "metadata": {},
     "output_type": "execute_result"
    }
   ],
   "source": [
    "import matplotlib.pyplot as plt\n",
    "import seaborn as sb\n",
    "import pandas as pd\n",
    "\n",
    "poi_data=pd.read_csv('./FoodEnv/SpatialData/SensTest/Sensitivity_Analysis_newtest.csv').dropna()\n",
    "poi_data.head"
   ]
  },
  {
   "cell_type": "code",
   "execution_count": 3,
   "id": "dea6a053",
   "metadata": {},
   "outputs": [
    {
     "data": {
      "image/png": "[encoded data removed]",
      "text/plain": [
       "<Figure size 864x864 with 8 Axes>"
      ]
     },
     "metadata": {
      "needs_background": "light"
     },
     "output_type": "display_data"
    }
   ],
   "source": [
    "#plot for number of POI\n",
    "poi_to_plot1=poi_data.reset_index().pivot(index='Distance (m)',columns='Lev_Dist',values='EG_Avg')\n",
    "poi_to_plot2=poi_data.reset_index().pivot(index='Distance (m)',columns='Lev_Dist',values='EY_Avg')\n",
    "poi_to_plot3=poi_data.reset_index().pivot(index='Distance (m)',columns='Lev_Dist',values='YG_Avg')\n",
    "poi_to_plot4=poi_data.reset_index().pivot(index='Distance (m)',columns='Lev_Dist',values='All_Avg')\n",
    "\n",
    "fig, ((ax1, ax2), (ax3, ax4)) = plt.subplots(2,2,figsize=(12,12))\n",
    "\n",
    "sb.heatmap(poi_to_plot1,ax=ax1, cmap=\"YlGnBu\",vmin=15,vmax=70)\n",
    "sb.heatmap(poi_to_plot2,ax=ax2, cmap=\"YlGnBu\",vmin=15,vmax=70)\n",
    "sb.heatmap(poi_to_plot3,ax=ax3, cmap=\"YlGnBu\",vmin=15,vmax=70)\n",
    "sb.heatmap(poi_to_plot4,ax=ax4, cmap=\"YlGnBu\",vmin=15,vmax=70)\n",
    "\n",
    "ax1.invert_yaxis() #reverse values on y axis\n",
    "ax2.invert_yaxis()\n",
    "ax3.invert_yaxis()\n",
    "ax4.invert_yaxis()\n",
    "\n",
    "ax1.set_title('Gov & Esri')\n",
    "ax2.set_title('Esri & Yelp')\n",
    "ax3.set_title('Yelp & Gov')\n",
    "ax4.set_title('All Data')\n",
    "plt.show()\n",
    "#plt.savefig('./FoodEnv/SpatialData/SensTest/POINumber.jpg', dpi=250)"
   ]
  },
  {
   "cell_type": "code",
   "execution_count": 4,
   "id": "2439354e",
   "metadata": {},
   "outputs": [
    {
     "data": {
      "text/html": [
       "<div>\n",
       "<style scoped>\n",
       "    .dataframe tbody tr th:only-of-type {\n",
       "        vertical-align: middle;\n",
       "    }\n",
       "\n",
       "    .dataframe tbody tr th {\n",
       "        vertical-align: top;\n",
       "    }\n",
       "\n",
       "    .dataframe thead th {\n",
       "        text-align: right;\n",
       "    }\n",
       "</style>\n",
       "<table border=\"1\" class=\"dataframe\">\n",
       "  <thead>\n",
       "    <tr style=\"text-align: right;\">\n",
       "      <th>Lev_Dist</th>\n",
       "      <th>2</th>\n",
       "      <th>3</th>\n",
       "      <th>4</th>\n",
       "      <th>5</th>\n",
       "      <th>6</th>\n",
       "      <th>7</th>\n",
       "      <th>8</th>\n",
       "      <th>9</th>\n",
       "    </tr>\n",
       "    <tr>\n",
       "      <th>Distance (m)</th>\n",
       "      <th></th>\n",
       "      <th></th>\n",
       "      <th></th>\n",
       "      <th></th>\n",
       "      <th></th>\n",
       "      <th></th>\n",
       "      <th></th>\n",
       "      <th></th>\n",
       "    </tr>\n",
       "  </thead>\n",
       "  <tbody>\n",
       "    <tr>\n",
       "      <th>50</th>\n",
       "      <td>23.029294</td>\n",
       "      <td>24.084545</td>\n",
       "      <td>25.843296</td>\n",
       "      <td>27.033040</td>\n",
       "      <td>28.740063</td>\n",
       "      <td>31.347153</td>\n",
       "      <td>33.405926</td>\n",
       "      <td>35.516427</td>\n",
       "    </tr>\n",
       "    <tr>\n",
       "      <th>75</th>\n",
       "      <td>24.953575</td>\n",
       "      <td>26.143318</td>\n",
       "      <td>28.077945</td>\n",
       "      <td>29.526328</td>\n",
       "      <td>31.657521</td>\n",
       "      <td>34.916383</td>\n",
       "      <td>37.378635</td>\n",
       "      <td>40.016761</td>\n",
       "    </tr>\n",
       "    <tr>\n",
       "      <th>100</th>\n",
       "      <td>26.288157</td>\n",
       "      <td>27.519283</td>\n",
       "      <td>29.588402</td>\n",
       "      <td>31.191969</td>\n",
       "      <td>33.612838</td>\n",
       "      <td>37.275179</td>\n",
       "      <td>40.151254</td>\n",
       "      <td>43.223896</td>\n",
       "    </tr>\n",
       "    <tr>\n",
       "      <th>200</th>\n",
       "      <td>29.567710</td>\n",
       "      <td>30.922983</td>\n",
       "      <td>33.385235</td>\n",
       "      <td>35.485391</td>\n",
       "      <td>38.702871</td>\n",
       "      <td>43.710139</td>\n",
       "      <td>47.269023</td>\n",
       "      <td>50.900327</td>\n",
       "    </tr>\n",
       "    <tr>\n",
       "      <th>300</th>\n",
       "      <td>30.426395</td>\n",
       "      <td>31.843741</td>\n",
       "      <td>34.481868</td>\n",
       "      <td>36.871700</td>\n",
       "      <td>40.358166</td>\n",
       "      <td>45.851677</td>\n",
       "      <td>49.720929</td>\n",
       "      <td>53.486726</td>\n",
       "    </tr>\n",
       "  </tbody>\n",
       "</table>\n",
       "</div>"
      ],
      "text/plain": [
       "Lev_Dist              2          3          4          5          6  \\\n",
       "Distance (m)                                                          \n",
       "50            23.029294  24.084545  25.843296  27.033040  28.740063   \n",
       "75            24.953575  26.143318  28.077945  29.526328  31.657521   \n",
       "100           26.288157  27.519283  29.588402  31.191969  33.612838   \n",
       "200           29.567710  30.922983  33.385235  35.485391  38.702871   \n",
       "300           30.426395  31.843741  34.481868  36.871700  40.358166   \n",
       "\n",
       "Lev_Dist              7          8          9  \n",
       "Distance (m)                                   \n",
       "50            31.347153  33.405926  35.516427  \n",
       "75            34.916383  37.378635  40.016761  \n",
       "100           37.275179  40.151254  43.223896  \n",
       "200           43.710139  47.269023  50.900327  \n",
       "300           45.851677  49.720929  53.486726  "
      ]
     },
     "execution_count": 4,
     "metadata": {},
     "output_type": "execute_result"
    }
   ],
   "source": [
    "poi_to_plot1.head()"
   ]
  },
  {
   "cell_type": "markdown",
   "id": "2f8360dc",
   "metadata": {},
   "source": [
    "## Manual check process"
   ]
  },
  {
   "cell_type": "code",
   "execution_count": null,
   "id": "c06faa6a",
   "metadata": {},
   "outputs": [],
   "source": [
    "import os\n",
    "import pandas as pd"
   ]
  },
  {
   "cell_type": "code",
   "execution_count": null,
   "id": "876e6997",
   "metadata": {},
   "outputs": [],
   "source": [
    "#select random samples for manual check\n",
    "\n",
    "path,dirs,files=next(os.walk(\"./FoodEnv/SpatialData/SensTest/ForManualCheck/\"))\n",
    "file_count=len(files)\n",
    "\n",
    "for i in range(file_count):\n",
    "    temp_df=pd.read_csv(\"./FoodEnv/SpatialData/SensTest/ForManualCheck/\"+files[i])\n",
    "    temp_df_lev_3=temp_df>>filter_by(X.lev_dist==3)>>sample(frac=0.5)>>select(ends_with('NAME'),ends_with('RECORDID'),X.lev_dist)\n",
    "    temp_df_lev_4=temp_df>>filter_by(X.lev_dist==4)>>sample(frac=0.5)>>select(ends_with('NAME'),ends_with('RECORDID'),X.lev_dist)\n",
    "    temp_df_lev_5=temp_df>>filter_by(X.lev_dist==5)>>sample(frac=0.5)>>select(ends_with('NAME'),ends_with('RECORDID'),X.lev_dist)\n",
    "    #rec_3=temp_df_lev_3['OID_'].count()\n",
    "    #rec_4=temp_df_lev_4['OID_'].count()\n",
    "    #rec_5=temp_df_lev_5['OID_'].count()\n",
    "    \n",
    "    temp_df_lev_3.to_csv('./FoodEnv/SpatialData/SensTest/{0}_lev3.csv'.format(files[i][:-4]),index=False)\n",
    "    temp_df_lev_4.to_csv('./FoodEnv/SpatialData/SensTest/{0}_lev4.csv'.format(files[i][:-4]),index=False)\n",
    "    temp_df_lev_5.to_csv('./FoodEnv/SpatialData/SensTest/{0}_lev5.csv'.format(files[i][:-4]),index=False)\n",
    "    #print ( rec_3,rec_4,rec_5)"
   ]
  },
  {
   "cell_type": "code",
   "execution_count": null,
   "id": "3a003ed0",
   "metadata": {},
   "outputs": [],
   "source": [
    "#compute % of manual matching\n",
    "path,dirs,files=next(os.walk(\"./FoodEnv/SpatialData/SensTest/Results/\"))\n",
    "file_count=len(files)\n",
    "\n",
    "for i in range(file_count):\n",
    "    temp_df=pd.read_csv(\"./FoodEnv/SpatialData/SensTest/Results/\"+files[i])\n",
    "    all_rec1=temp_df['Same_Business_1'].count()\n",
    "    mark_rec1=temp_df['Same_Business_1'].sum()\n",
    "    ratio_rec1=round(mark_rec1/all_rec1,2)\n",
    "    all_rec2=temp_df['Same_Business_2'].count()\n",
    "    mark_rec2=temp_df['Same_Business_2'].sum()\n",
    "    ratio_rec2=round(mark_rec2/all_rec2,2)\n",
    "    ratio_avg=(ratio_rec1+ratio_rec2)*100/2\n",
    "    print('{0} '.format(files[i][:-4]),ratio_avg)"
   ]
  },
  {
   "cell_type": "code",
   "execution_count": null,
   "id": "67b6aada",
   "metadata": {},
   "outputs": [],
   "source": [
    "#compute aggrement ratio\n",
    "path,dirs,files=next(os.walk(\"./FoodEnv/SpatialData/SensTest/Results/\"))\n",
    "file_count=len(files)\n",
    "\n",
    "for i in range(file_count):\n",
    "    temp_df=pd.read_csv(\"./FoodEnv/SpatialData/SensTest/Results/\"+files[i])\n",
    "    #assign 1 if different among annotators\n",
    "    temp_df['agg_diff']=abs(temp_df['Same_Business_1']-temp_df['Same_Business_2'])\n",
    "    #total records\n",
    "    all_rec=temp_df['Same_Business_1'].count()\n",
    "    #total difference\n",
    "    diff_rec=temp_df['agg_diff'].sum()\n",
    "    #aggrement rate\n",
    "    ratio_agg=round((all_rec-diff_rec)/all_rec*100,2)\n",
    "    print('{0} '.format(files[i][:-4]),ratio_agg)"
   ]
  },
  {
   "cell_type": "code",
   "execution_count": null,
   "id": "3e9c9509",
   "metadata": {},
   "outputs": [],
   "source": [
    "#compute DM and apply Lev dist\n",
    "import Levenshtein as lev\n",
    "from metaphone import doublemetaphone\n",
    "\n",
    "path,dirs,files=next(os.walk(\"./FoodEnv/SpatialData/SensTest/Results/\"))\n",
    "file_count=len(files)\n",
    "\n",
    "for i in range(file_count):\n",
    "    temp_df=pd.read_csv(\"./FoodEnv/SpatialData/SensTest/Results/\"+files[i])\n",
    "    temp_df['DM1'] = temp_df.apply(lambda x: doublemetaphone(str(x[temp_df.columns[3]]))[0], axis=1)\n",
    "    temp_df['DM2']=temp_df.apply(lambda x: doublemetaphone(str(x[temp_df.columns[4]]))[0], axis=1)\n",
    "    temp_df['DM_lev']=temp_df.apply(lambda x: lev.distance(x['DM1'],  x['DM2']), axis=1)\n",
    "    #selec_rec=temp_df[(temp_df.Same_Business1!=0)|(temp_df.Same_Business2!=0) | (temp_df.DM_lev<2)]\n",
    "    #take the opposite records of conditions\n",
    "    selec_rec=temp_df[~((temp_df.Same_Business_1==0)&(temp_df.Same_Business_2==0)&(temp_df.DM_lev>3))]\n",
    "    #total records\n",
    "    all_rec=selec_rec['Same_Business_1'].count()\n",
    "    match_rec1=selec_rec['Same_Business_1'].sum()\n",
    "    match_rec2=selec_rec['Same_Business_2'].sum()\n",
    "    manual_check_rate=round(((match_rec1/all_rec)*100+(match_rec2/all_rec)*100)/2,2)\n",
    "    print(manual_check_rate)\n",
    "    "
   ]
  },
  {
   "cell_type": "markdown",
   "id": "9eddf446",
   "metadata": {},
   "source": [
    "# Category analysis from matched and unmatched"
   ]
  },
  {
   "cell_type": "code",
   "execution_count": 210,
   "id": "ef8e6463",
   "metadata": {},
   "outputs": [
    {
     "data": {
      "text/plain": [
       "G_NAME        5465\n",
       "G_Ctg         5465\n",
       "G_RECORDID    5465\n",
       "G_LAT         5465\n",
       "G_LONG        5465\n",
       "Y_RECORDID    5465\n",
       "Y_NAME        5465\n",
       "Y_Ctg         5465\n",
       "Y_LAT         5465\n",
       "Y_LONG        5465\n",
       "E_RECORDID    5465\n",
       "E_NAME        5465\n",
       "E_NAICS       5465\n",
       "E_LONG        5465\n",
       "E_LAT         5465\n",
       "LowConf       5465\n",
       "dtype: int64"
      ]
     },
     "execution_count": 210,
     "metadata": {},
     "output_type": "execute_result"
    }
   ],
   "source": [
    "#matched data\n",
    "all_match_data=pd.read_csv(\"./FoodEnv/SpatialData/All_FullMatch.csv\")\n",
    "all_match_data.columns\n",
    "all_match_data.count()"
   ]
  },
  {
   "cell_type": "code",
   "execution_count": 206,
   "id": "bdd3f1c5",
   "metadata": {},
   "outputs": [],
   "source": [
    "#merge yelp data with new category\n",
    "yelp_new=pd.read_csv(\"./FoodEnv/SpatialData/yelp_clean_final.csv\",usecols=['Y_RECORDID','Y_Ctg_all','Y_Ctg_top',\n",
    "                                                                           'Y_Ctg_food_and_res','Y_Ctg_food',\n",
    "                                                                           'Y_Ctg_res'])\n",
    "all_match_data_newctg=all_match_data.merge(yelp_new,on='Y_RECORDID',how='inner') #final match data with new yelp category\n",
    "\n",
    "#categories in yelp\n",
    "all_keys = []\n",
    "\n",
    "for e in all_match_data_newctg['Y_Ctg_all']:\n",
    "    all_keys += eval(e) #use eval to retrieve all the values in Y_Ctg_all, while e is a string\n",
    "\n",
    "row_num=all_match_data_newctg.shape[0]\n",
    "ctg_count=pd.value_counts(all_keys)\n",
    "yelp_ctg=pd.DataFrame({'Category':ctg_count.index, 'Count':ctg_count.values})\n",
    "yelp_ctg['Perc']=yelp_ctg['Count']/row_num*100\n",
    "yelp_ctg.to_csv(\"./FoodEnv/SpatialData/match_yelp_ctg.csv\")"
   ]
  },
  {
   "cell_type": "code",
   "execution_count": 209,
   "id": "b4ead838",
   "metadata": {},
   "outputs": [],
   "source": [
    "#categories in gov\n",
    "gov_ctg=all_match_data.groupby(['G_Ctg']).size().reset_index(name='Count')\n",
    "gov_ctg['Perc']=gov_ctg['Count']/row_num*100\n",
    "gov_ctg.to_csv(\"./FoodEnv/SpatialData/match_gov_ctg.csv\")\n",
    "\n",
    "#categories in esri\n",
    "esri_ctg=all_match_data.groupby(['E_NAICS']).size().reset_index(name='Count')\n",
    "esri_ctg.to_csv(\"./FoodEnv/SpatialData/match_esri_ctg.csv\")"
   ]
  },
  {
   "cell_type": "code",
   "execution_count": null,
   "id": "7da7e258",
   "metadata": {},
   "outputs": [],
   "source": [
    "#different categories in low confident and high confident data\n",
    "low_conf=all_match_data>>filter_by(X.LowConf==1)\n",
    "high_conf=all_match_data>>filter_by(X.LowConf==0)\n",
    "#low_conf_G_Ctg=low_conf.groupby(['G_Ctg']).size().reset_index(name='counts')\n",
    "low_conf_Y_Ctg=low_conf.groupby(['Y_Ctg']).size().reset_index(name='counts')\n",
    "#low_conf_E_Ctg=low_conf.groupby(['E_NAICS']).size().reset_index(name='counts')\n"
   ]
  },
  {
   "cell_type": "code",
   "execution_count": 213,
   "id": "80b14276",
   "metadata": {},
   "outputs": [
    {
     "name": "stdout",
     "output_type": "stream",
     "text": [
      "3289 7398 5325\n"
     ]
    }
   ],
   "source": [
    "#final unmatch data for each dataset\n",
    "gov_full=pd.read_csv(\"./FoodEnv/SpatialData/gov_clean_final.csv\")\n",
    "yelp_full=pd.read_csv(\"./FoodEnv/SpatialData/yelp_clean_final.csv\")\n",
    "esri_full=pd.read_csv(\"./FoodEnv/SpatialData/esri_clean_final.csv\")\n",
    "\n",
    "gov_unmatch_final=gov_full[~gov_full['G_RECORDID'].isin(all_match_data_newctg['G_RECORDID'])]\n",
    "yelp_unmatch_final=yelp_full[~yelp_full['Y_RECORDID'].isin(all_match_data_newctg['Y_RECORDID'])]\n",
    "esri_unmatch_final=esri_full[~esri_full['E_RECORDID'].isin(all_match_data_newctg['E_RECORDID'])]\n",
    "\n",
    "\n",
    "print(gov_unmatch_final['G_RECORDID'].count(),yelp_unmatch_final['Y_RECORDID'].count(),esri_unmatch_final['E_RECORDID'].count())   \n",
    "\n",
    "#get category info\n",
    "\n",
    "#categories in yelp\n",
    "all_keys = []\n",
    "\n",
    "for e in yelp_unmatch_final['Y_Ctg_all']:\n",
    "    all_keys += eval(e) #use eval to retrieve all the values in Y_Ctg_all, while e is a string\n",
    "\n",
    "row_num_yelp=yelp_unmatch_final.shape[0]\n",
    "ctg_count=pd.value_counts(all_keys)\n",
    "yelp_ctg=pd.DataFrame({'Category':ctg_count.index, 'Count':ctg_count.values})\n",
    "yelp_ctg['Perc']=yelp_ctg['Count']/row_num_yelp*100\n",
    "yelp_ctg.to_csv(\"./FoodEnv/SpatialData/unmatch_yelp_ctg.csv\")\n",
    "\n",
    "#categories in gov\n",
    "row_num_gov=gov_unmatch_final.shape[0]\n",
    "gov_ctg=gov_unmatch_final.groupby(['G_Catg']).size().reset_index(name='Count')\n",
    "gov_ctg['Perc']=gov_ctg['Count']/row_num_gov*100\n",
    "gov_ctg.to_csv(\"./FoodEnv/SpatialData/unmatch_gov_ctg.csv\")\n",
    "\n",
    "#categories in esri\n",
    "esri_ctg=esri_unmatch_final.groupby(['E_NAICS']).size().reset_index(name='Count')\n",
    "esri_ctg.to_csv(\"./FoodEnv/SpatialData/unmatch_esri_ctg.csv\")"
   ]
  },
  {
   "cell_type": "code",
   "execution_count": 222,
   "id": "21a469e0",
   "metadata": {},
   "outputs": [],
   "source": [
    "gov_unmatch_final.to_csv(\"./FoodEnv/SpatialData/gov_unmatch_final.csv\")\n",
    "yelp_unmatch_final.to_csv(\"./FoodEnv/SpatialData/yelp_unmatch_final.csv\")\n",
    "esri_unmatch_final.to_csv(\"./FoodEnv/SpatialData/esri_unmatch_final.csv\")"
   ]
  },
  {
   "cell_type": "code",
   "execution_count": 221,
   "id": "69e1e46c",
   "metadata": {},
   "outputs": [],
   "source": [
    "#explore yelp categories\n",
    "yelp_ctg_match=pd.read_csv(\"./FoodEnv/SpatialData/match_yelp_ctg.csv\")\n",
    "yelp_ctg_unmatch=pd.read_csv(\"./FoodEnv/SpatialData/unmatch_yelp_ctg.csv\")\n",
    "\n",
    "#categories in yelp\n",
    "all_keys = []\n",
    "\n",
    "for e in yelp_full['Y_Ctg_all']:\n",
    "    all_keys += eval(e) #use eval to retrieve all the values in Y_Ctg_all, while e is a string\n",
    "\n",
    "ctg_count=pd.value_counts(all_keys)\n",
    "yelp_ctg_all=pd.DataFrame({'Category':ctg_count.index, 'Count':ctg_count.values})\n",
    "yelp_ctg=yelp_ctg_all.merge(yelp_ctg_match,on=\"Category\",how=\"outer\")\n",
    "yelp_ctg2=yelp_ctg.merge(yelp_ctg_unmatch,on=\"Category\",how=\"outer\")\n",
    "yelp_ctg2=yelp_ctg2[['Category','Count_x','Count_y','Count']]\n",
    "yelp_ctg2.columns=['Category','All_Count','Match_Count','Unmatch_Count']\n",
    "yelp_ctg2=yelp_ctg2.fillna(0)\n",
    "yelp_ctg2['MatchPercent']=yelp_ctg2['Match_Count']/yelp_ctg2['All_Count']*100\n",
    "yelp_ctg2['UnmatchPercent']=yelp_ctg2['Unmatch_Count']/yelp_ctg2['All_Count']*100\n",
    "yelp_ctg2.to_csv(\"./FoodEnv/SpatialData/yelp_ctg_discover.csv\")"
   ]
  }
 ],
 "metadata": {
  "kernelspec": {
   "display_name": "Python 3 (ipykernel)",
   "language": "python",
   "name": "python3"
  },
  "language_info": {
   "codemirror_mode": {
    "name": "ipython",
    "version": 3
   },
   "file_extension": ".py",
   "mimetype": "text/x-python",
   "name": "python",
   "nbconvert_exporter": "python",
   "pygments_lexer": "ipython3",
   "version": "3.9.12"
  }
 },
 "nbformat": 4,
 "nbformat_minor": 5
}
